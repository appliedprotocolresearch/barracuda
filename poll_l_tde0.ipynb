{
 "cells": [
  {
   "cell_type": "code",
   "execution_count": 44,
   "metadata": {
    "collapsed": true
   },
   "outputs": [],
   "source": [
    "#!/usr/bin/python3\n",
    "import os\n",
    "import numpy as np\n",
    "import string\n",
    "import pandas as pd\n",
    "from pandas import DataFrame\n",
    "import random\n",
    "import networkx as nx\n",
    "import matplotlib\n",
    "import matplotlib.pyplot as plt\n",
    "import math\n",
    "from collections import defaultdict\n",
    "from sklearn import linear_model\n",
    "from sklearn.metrics import mean_squared_error\n",
    "from random import choice"
   ]
  },
  {
   "cell_type": "code",
   "execution_count": 45,
   "metadata": {
    "collapsed": true
   },
   "outputs": [],
   "source": [
    "#This routine returns all the paths from the node v\n",
    "def DFS(G,v,seen=None,path=None):\n",
    "    if seen is None: seen = []\n",
    "    if path is None: path = [v]\n",
    "\n",
    "    seen.append(v)\n",
    "\n",
    "    paths = []\n",
    "    for t in G[v]:\n",
    "        if t not in seen:\n",
    "            t_path = path + [t]\n",
    "            paths.append(tuple(t_path))\n",
    "            paths.extend(DFS(G, t, seen[:], t_path))\n",
    "    return paths\n",
    "\n",
    "#Given a set of paths this routine returns the maximum length chain\n",
    "def give_a_max_path(all_paths):\n",
    "        \n",
    "    \n",
    "    max_len   = max(len(p) for p in all_paths)\n",
    "    \n",
    "    max_paths = [p for p in all_paths if len(p) == max_len]\n",
    "        \n",
    "    num_max_paths = len(max_paths)\n",
    "        \n",
    "    chosen_path = max_paths[np.random.randint(num_max_paths)]\n",
    "    \n",
    "    return chosen_path, max_len\n",
    "\n",
    "def union(list1,list2):\n",
    "    return list(set(list1) | set(list2))\n",
    "\n"
   ]
  },
  {
   "cell_type": "code",
   "execution_count": 46,
   "metadata": {},
   "outputs": [
    {
     "name": "stdout",
     "output_type": "stream",
     "text": [
      "{4: [2.3, 2.9]}\n",
      "{4: {2.3: [], 2.9: []}}\n"
     ]
    }
   ],
   "source": [
    "# Defining the tree dictionary for each node\n",
    "# Each block tree is a dictionary\n",
    "# Each node is in nodes[] list\n",
    "\n",
    "num_nodes = 10000\n",
    "\n",
    "max_blocks = 100\n",
    "\n",
    "#Chyeck list of lists\n",
    "\n",
    "\n",
    "delay_vector= np.arange(0,5.25,0.25)\n",
    "#delay_vector=[5]\n",
    "\n",
    "num_delays=len(delay_vector)\n",
    "\n",
    "num_trials = 16\n",
    "\n",
    "MCL={}\n",
    "\n",
    "#max_len_tracker = np.zeros((num_delays, max_blocks+1, num_trials))\n",
    "\n",
    "D_tilde_factor = 0.0\n",
    "\n",
    "\n",
    "poll_L_array = [4]\n",
    "poll_L_array=[4]\n",
    "delay_dict = {}\n",
    "for i in poll_L_array:\n",
    "    delay_dict[i] = [2.3,2.9]\n",
    "    MCL[i] = {}\n",
    "    for j in delay_dict[i]:\n",
    "        MCL[i][j] = []\n",
    "\n",
    "print(delay_dict)\n",
    "print(MCL)"
   ]
  },
  {
   "cell_type": "code",
   "execution_count": 47,
   "metadata": {
    "scrolled": true
   },
   "outputs": [
    {
     "name": "stdout",
     "output_type": "stream",
     "text": [
      "4\n",
      "Starting with delay: 2.3\n",
      "23\n",
      "43\n",
      "62\n",
      "82\n",
      "Trial 0: Block 100 arrived : Growth rate of the main chain is 82\n",
      "21\n",
      "43\n",
      "65\n",
      "88\n",
      "Trial 1: Block 100 arrived : Growth rate of the main chain is 88\n",
      "23\n",
      "45\n",
      "63\n",
      "84\n",
      "Trial 2: Block 100 arrived : Growth rate of the main chain is 84\n",
      "20\n",
      "41\n",
      "62\n",
      "82\n",
      "Trial 3: Block 100 arrived : Growth rate of the main chain is 82\n",
      "20\n",
      "37\n",
      "57\n",
      "78\n",
      "Trial 4: Block 100 arrived : Growth rate of the main chain is 78\n",
      "22\n",
      "41\n",
      "62\n",
      "84\n",
      "Trial 5: Block 100 arrived : Growth rate of the main chain is 84\n",
      "20\n",
      "41\n",
      "63\n",
      "86\n",
      "Trial 6: Block 100 arrived : Growth rate of the main chain is 86\n",
      "21\n",
      "40\n",
      "59\n",
      "78\n",
      "Trial 7: Block 100 arrived : Growth rate of the main chain is 78\n",
      "21\n",
      "43\n",
      "63\n",
      "84\n",
      "Trial 8: Block 100 arrived : Growth rate of the main chain is 84\n",
      "22\n",
      "42\n",
      "60\n",
      "80\n",
      "Trial 9: Block 100 arrived : Growth rate of the main chain is 80\n",
      "21\n",
      "42\n",
      "63\n",
      "81\n",
      "Trial 10: Block 100 arrived : Growth rate of the main chain is 81\n",
      "22\n",
      "42\n",
      "63\n",
      "85\n",
      "Trial 11: Block 100 arrived : Growth rate of the main chain is 85\n",
      "20\n",
      "40\n",
      "61\n",
      "85\n",
      "Trial 12: Block 100 arrived : Growth rate of the main chain is 85\n",
      "22\n",
      "42\n",
      "62\n",
      "81\n",
      "Trial 13: Block 100 arrived : Growth rate of the main chain is 81\n",
      "20\n",
      "39\n",
      "62\n",
      "85\n",
      "Trial 14: Block 100 arrived : Growth rate of the main chain is 85\n",
      "20\n",
      "39\n",
      "61\n",
      "83\n",
      "Trial 15: Block 100 arrived : Growth rate of the main chain is 83\n",
      "Starting with delay: 2.9\n",
      "19\n",
      "37\n",
      "54\n",
      "72\n",
      "Trial 0: Block 100 arrived : Growth rate of the main chain is 72\n",
      "23\n",
      "42\n",
      "62\n",
      "82\n",
      "Trial 1: Block 100 arrived : Growth rate of the main chain is 82\n",
      "21\n",
      "41\n",
      "61\n",
      "80\n",
      "Trial 2: Block 100 arrived : Growth rate of the main chain is 80\n",
      "18\n",
      "39\n",
      "61\n",
      "83\n",
      "Trial 3: Block 100 arrived : Growth rate of the main chain is 83\n",
      "19\n",
      "38\n",
      "58\n",
      "76\n",
      "Trial 4: Block 100 arrived : Growth rate of the main chain is 76\n",
      "20\n",
      "38\n",
      "57\n",
      "73\n",
      "Trial 5: Block 100 arrived : Growth rate of the main chain is 73\n",
      "22\n",
      "41\n",
      "59\n",
      "78\n",
      "Trial 6: Block 100 arrived : Growth rate of the main chain is 78\n",
      "17\n",
      "37\n",
      "57\n",
      "74\n",
      "Trial 7: Block 100 arrived : Growth rate of the main chain is 74\n",
      "20\n",
      "38\n",
      "57\n",
      "78\n",
      "Trial 8: Block 100 arrived : Growth rate of the main chain is 78\n",
      "18\n",
      "33\n",
      "54\n",
      "75\n",
      "Trial 9: Block 100 arrived : Growth rate of the main chain is 75\n",
      "19\n",
      "38\n",
      "58\n",
      "73\n",
      "Trial 10: Block 100 arrived : Growth rate of the main chain is 73\n",
      "21\n",
      "40\n",
      "59\n",
      "78\n",
      "Trial 11: Block 100 arrived : Growth rate of the main chain is 78\n",
      "18\n",
      "40\n",
      "58\n",
      "75\n",
      "Trial 12: Block 100 arrived : Growth rate of the main chain is 75\n",
      "18\n",
      "40\n",
      "59\n",
      "77\n",
      "Trial 13: Block 100 arrived : Growth rate of the main chain is 77\n",
      "21\n",
      "39\n",
      "58\n",
      "76\n",
      "Trial 14: Block 100 arrived : Growth rate of the main chain is 76\n",
      "19\n",
      "36\n",
      "55\n",
      "73\n",
      "Trial 15: Block 100 arrived : Growth rate of the main chain is 73\n"
     ]
    }
   ],
   "source": [
    "for poll_L in poll_L_array:\n",
    "    print(poll_L)\n",
    "    delay_vector = delay_dict[poll_L]\n",
    "    num_delays=len(delay_vector)\n",
    "    for d in range(num_delays):\n",
    "\n",
    "        Delay = delay_vector[d]\n",
    "\n",
    "        data={} \n",
    "\n",
    "        D_tilde = D_tilde_factor*Delay\n",
    "\n",
    "        print(\"Starting with delay:\", Delay)\n",
    "\n",
    "        for trial in range(num_trials):\n",
    "\n",
    "            nodes = num_nodes*[0]\n",
    "\n",
    "            #Tree variables\n",
    "            num_in_strings = [str(i) for i in range(max_blocks+1)]\n",
    "\n",
    "\n",
    "\n",
    "            for i in range(num_nodes):\n",
    "                nodes[i] = {i:[] for i in num_in_strings[:-1]}\n",
    "\n",
    "            # nodes[i] is a dictionary of block tree for node i which contains children of the blocks 0,1,....,T-1    \n",
    "\n",
    "            god_node_children = {i:[] for i in num_in_strings}    \n",
    "            god_node_parents = {i:\"\" for i in num_in_strings[:-1]}\n",
    "\n",
    "            rechability_matrix= np.zeros((num_nodes,max_blocks+1))\n",
    "            rechability_matrix[:,0]=1\n",
    "\n",
    "            delay_variables = np.random.exponential(Delay,(num_nodes,max_blocks+1))\n",
    "\n",
    "            poll_delay1 = np.random.exponential(D_tilde,max_blocks+1)\n",
    "            poll_delay2 = np.random.exponential(D_tilde,max_blocks+1)\n",
    "            poll_delay3 = np.random.exponential(D_tilde,max_blocks+1)\n",
    "\n",
    "            poll_delay = np.maximum(poll_delay1,poll_delay2)\n",
    "            poll_delay = np.maximum(poll_delay,poll_delay3)\n",
    "            #print(D_tilde)\n",
    "            #print(np.mean(poll_delay))\n",
    "            #poll_delay = np.zeros((max_blocks+1))\n",
    "            #poll_delay = poll_delay+D_tilde    \n",
    "\n",
    "            #Block arrival process\n",
    "            for t in range(1, max_blocks+1):\n",
    "\n",
    "                chosen_node = np.random.randint(num_nodes)\n",
    "\n",
    "                delay_variables[chosen_node,t] = 0  # Removing GOD model\\n\"\n",
    "\n",
    "                # Update block trees for all nodes \"n\"\n",
    "\n",
    "                if t==1:\n",
    "                    god_node_children[\"0\"].append(str(t))\n",
    "\n",
    "                    god_node_parents[str(t)] = str(0)\n",
    "\n",
    "\n",
    "                else:\n",
    "\n",
    "\n",
    "                    #Updating the block trees of all the nodes corresponding to the blocks 1,...t-1\n",
    "\n",
    "                    for tau in range(1,t):\n",
    "\n",
    "                        for k in range(num_nodes):\n",
    "\n",
    "                            if delay_variables[k,tau] < t-tau-poll_delay[tau]:\n",
    "\n",
    "                                rechability_matrix[k,tau]=1\n",
    "\n",
    "                                if str(tau) not in nodes[k][god_node_parents[str(tau)]]:\n",
    "                                    nodes[k][god_node_parents[str(tau)]].append(str(tau))\n",
    "\n",
    "                    #Find the longest path for  chosen node n starting from the genesis block 0,1,,\n",
    "\n",
    "\n",
    "                    #If we poll we merge the dictionaries a.k.a local block trees and then chose the longest path\n",
    "\n",
    "                    #graph = nodes[chosen_node]\n",
    "\n",
    "                    #Updating the chosen node blocktree due to polling delay in proposal\n",
    "\n",
    "                    for tau in range(1,t):\n",
    "                        if delay_variables[chosen_node,tau] < t+poll_delay[t]-tau-poll_delay[tau]:\n",
    "\n",
    "                            rechability_matrix[chosen_node,tau]=1\n",
    "\n",
    "                            if str(tau) not in nodes[chosen_node][god_node_parents[str(tau)]]:\n",
    "                                nodes[chosen_node][god_node_parents[str(tau)]].append(str(tau))\n",
    "\n",
    "                chosen_graph = nodes[chosen_node]\n",
    "                \n",
    "                polled_node=chosen_node\n",
    "                \n",
    "                polling_list=list(range(num_nodes))\n",
    "                \n",
    "                polling_list.remove(polled_node)\n",
    "                \n",
    "                for i in range(poll_L-1):\n",
    "\n",
    "                    polled_node = choice(polling_list)\n",
    "\n",
    "                    polled_graph = nodes[polled_node]\n",
    "\n",
    "                    chosen_graph = {x:union(chosen_graph[x],polled_graph[x]) for x in chosen_graph}\n",
    "\n",
    "                    polling_list.remove(polled_node)\n",
    "                             \n",
    "                \n",
    "                all_paths = DFS(chosen_graph, \"0\")\n",
    "\n",
    "                if len(all_paths)==0:\n",
    "\n",
    "                    chosen_leaf=\"0\"\n",
    "\n",
    "                else:\n",
    "\n",
    "                    chosen_path, max_len = give_a_max_path(all_paths)\n",
    "\n",
    "                    chosen_leaf=chosen_path[-1]\n",
    "\n",
    "\n",
    "                #Attach this node in the Global tree\n",
    "\n",
    "                god_node_children[chosen_leaf].append(str(t))\n",
    "\n",
    "                god_node_parents[str(t)] = chosen_leaf\n",
    "\n",
    "\n",
    "                _, temp_length = give_a_max_path(DFS(god_node_children,\"0\"))\n",
    "\n",
    "\n",
    "                temp_length = temp_length-1\n",
    "\n",
    "                if t%25==0:\n",
    "                    print(temp_length)\n",
    "                \n",
    "                if t%100 == 0:\n",
    "\n",
    "                    print(\"Trial {0}: Block {1} arrived : Growth rate of the main chain is {2}\".format(trial, t, temp_length))\n",
    "                    MCL[poll_L][Delay].append(temp_length)\n",
    "\n",
    "\n",
    "\n",
    "            #data[\"Trial%d\"%(trial)]= max_len_tracker[d,:,trial]\n",
    "            #df = pd.DataFrame(data=data)            \n",
    "            #df.to_csv('poll_delay_conservative/'+'updated_delay2_poll4_n%d_T%d_D%.2f.csv'%(num_nodes,max_blocks,Delay))\n",
    "\n"
   ]
  },
  {
   "cell_type": "code",
   "execution_count": 48,
   "metadata": {},
   "outputs": [
    {
     "name": "stdout",
     "output_type": "stream",
     "text": [
      "{4: {2.3: [82, 88, 84, 82, 78, 84, 86, 78, 84, 80, 81, 85, 85, 81, 85, 83], 2.9: [72, 82, 80, 83, 76, 73, 78, 74, 78, 75, 73, 78, 75, 77, 76, 73]}}\n"
     ]
    }
   ],
   "source": [
    "print(MCL)"
   ]
  },
  {
   "cell_type": "code",
   "execution_count": 50,
   "metadata": {},
   "outputs": [
    {
     "name": "stdout",
     "output_type": "stream",
     "text": [
      "{2.3: 0.4599609375, 2.9: 0.624755859375}\n"
     ]
    }
   ],
   "source": [
    "EMCL = {}\n",
    "VMCL = {}\n",
    "for i in range(4,5):\n",
    "    EMCL[i] = {}\n",
    "    VMCL[i] = {}\n",
    "    for j in [2.3,2.9]:\n",
    "        EMCL[i][j] = np.mean(np.array([MCL[i][j]]))\n",
    "        VMCL[i][j] = np.var(np.array([MCL[i][j]]))/16\n",
    "print(VMCL[4])"
   ]
  },
  {
   "cell_type": "code",
   "execution_count": 51,
   "metadata": {
    "collapsed": true
   },
   "outputs": [],
   "source": [
    "def calculate_x0(y1,y2,y0,x1,x2):\n",
    "    return(x1+ (y0-y1)*(x2-x1)/(y2-y1))\n",
    "\n",
    "def calculate_var_x0(y1,y2,y0,x1,x2,vary1,vary2):\n",
    "    temp_term1 = ((x2-x1)**2)*((y0-y1)**2)/((y2-y1)**2)\n",
    "    \n",
    "    temp_term2 = vary1/((y0-y1)**2) + (vary2+vary1)/((y2-y1)**2)\n",
    "    \n",
    "    return temp_term1*temp_term2"
   ]
  },
  {
   "cell_type": "code",
   "execution_count": 9,
   "metadata": {
    "collapsed": true
   },
   "outputs": [],
   "source": [
    "EMCL[1] = {}\n",
    "VMCL[1] = {}\n",
    "EMCL[1][0.5] = 88.0\n",
    "EMCL[1][0.75] = 74.75\n",
    "VMCL[1][0.5] = 1.5/4\n",
    "VMCL[1][0.75] = 8.6875/4"
   ]
  },
  {
   "cell_type": "code",
   "execution_count": 52,
   "metadata": {},
   "outputs": [
    {
     "name": "stdout",
     "output_type": "stream",
     "text": [
      "[2.5679611650485437]\n",
      "[0.07664914637270745]\n"
     ]
    }
   ],
   "source": [
    "x0_array = []\n",
    "std_x0_array = []\n",
    "for i in range(4,5):\n",
    "    [x1,x2]=list(EMCL[i].keys())\n",
    "    [y1,y2]=list(EMCL[i].values())\n",
    "    [vary1,vary2] = list(VMCL[i].values())\n",
    "    y0 = 80\n",
    "    x0 = calculate_x0(y1,y2,y0,x1,x2)\n",
    "    var_x0=calculate_var_x0(y1,y2,y0,x1,x2,vary1,vary2)\n",
    "    x0_array.append(x0)\n",
    "    std_x0_array.append(np.sqrt(var_x0))\n",
    "                      \n",
    "    \n",
    "print(x0_array)\n",
    "print(std_x0_array)"
   ]
  },
  {
   "cell_type": "code",
   "execution_count": 14,
   "metadata": {},
   "outputs": [
    {
     "data": {
      "text/plain": [
       "8.282606021054002"
      ]
     },
     "execution_count": 14,
     "metadata": {},
     "output_type": "execute_result"
    }
   ],
   "source": [
    "x0_finalized = x0_array\n",
    "std_x0_finalized = std_x0_array\n",
    "x0_finalized.pop()\n",
    "std_x0_finalized.pop()"
   ]
  },
  {
   "cell_type": "code",
   "execution_count": 53,
   "metadata": {
    "collapsed": true
   },
   "outputs": [],
   "source": [
    "x0_finalized = np.load('DvsL_dict/zero_mean.npy')\n",
    "std_x0_finalized=np.load('DvsL_dict/zero_std.npy')\n",
    "x0_finalized[3]=x0_array[0]\n",
    "std_x0_finalized[3] = std_x0_array[0]"
   ]
  },
  {
   "cell_type": "code",
   "execution_count": 18,
   "metadata": {
    "collapsed": true
   },
   "outputs": [],
   "source": [
    "x0_finalized.append(x0_array[0])\n",
    "std_x0_finalized.append(std_x0_array[0])"
   ]
  },
  {
   "cell_type": "code",
   "execution_count": 54,
   "metadata": {
    "scrolled": true
   },
   "outputs": [
    {
     "name": "stdout",
     "output_type": "stream",
     "text": [
      "[ 0.6509434   1.33571429  1.996875    2.56796117  3.29411765  3.82626263\n",
      "  4.525       5.125       5.7969697   6.52631579]\n",
      "[ 0.02154122  0.06742935  0.09354314  0.07664915  0.15256337  0.08686091\n",
      "  0.21738323  0.24712566  0.14816502  0.15121711]\n"
     ]
    }
   ],
   "source": [
    "print(x0_finalized)\n",
    "print(std_x0_finalized)"
   ]
  },
  {
   "cell_type": "code",
   "execution_count": 55,
   "metadata": {},
   "outputs": [
    {
     "data": {
      "image/png": "[encoded data removed]",
      "text/plain": [
       "<matplotlib.figure.Figure at 0x1a18a0f6d8>"
      ]
     },
     "metadata": {},
     "output_type": "display_data"
    }
   ],
   "source": [
    "plt.rcParams.update({'font.size': 14})\n",
    "plt.figure(figsize=(10,7))\n",
    "plt.errorbar(range(1,11),x0_finalized,std_x0_finalized,color=(0.5,0,0))\n",
    "plt.xlabel('l')\n",
    "plt.ylabel('D')\n",
    "plt.legend(['zero_poll_delay'])\n",
    "#plt.title('Lower_bound_tightness')\n",
    "#plt.savefig('lower_bound1.fig')\n",
    "plt.show()"
   ]
  },
  {
   "cell_type": "code",
   "execution_count": 56,
   "metadata": {
    "collapsed": true
   },
   "outputs": [],
   "source": [
    "np.save('DvsL_dict/zero_mean.npy',np.array(x0_finalized))\n",
    "np.save('DvsL_dict/zero_std.npy',np.array(std_x0_finalized))"
   ]
  },
  {
   "cell_type": "code",
   "execution_count": null,
   "metadata": {
    "collapsed": true
   },
   "outputs": [],
   "source": []
  }
 ],
 "metadata": {
  "kernelspec": {
   "display_name": "Python 2",
   "language": "python",
   "name": "python2"
  },
  "language_info": {
   "codemirror_mode": {
    "name": "ipython",
    "version": 2
   },
   "file_extension": ".py",
   "mimetype": "text/x-python",
   "name": "python",
   "nbconvert_exporter": "python",
   "pygments_lexer": "ipython2",
   "version": "2.7.13"
  }
 },
 "nbformat": 4,
 "nbformat_minor": 2
}
