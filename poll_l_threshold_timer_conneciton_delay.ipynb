{
 "cells": [
  {
   "cell_type": "code",
   "execution_count": 11,
   "metadata": {
    "collapsed": true
   },
   "outputs": [],
   "source": [
    "#!/usr/bin/python3\n",
    "import os\n",
    "import numpy as np\n",
    "import string\n",
    "import pandas as pd\n",
    "from pandas import DataFrame\n",
    "import random\n",
    "import networkx as nx\n",
    "import matplotlib\n",
    "import matplotlib.pyplot as plt\n",
    "import math\n",
    "from collections import defaultdict\n",
    "from sklearn import linear_model\n",
    "from sklearn.metrics import mean_squared_error\n",
    "from random import choice"
   ]
  },
  {
   "cell_type": "code",
   "execution_count": 12,
   "metadata": {
    "collapsed": true
   },
   "outputs": [],
   "source": [
    "#This routine returns all the paths from the node v\n",
    "def DFS(G,v,seen=None,path=None):\n",
    "    if seen is None: seen = []\n",
    "    if path is None: path = [v]\n",
    "\n",
    "    seen.append(v)\n",
    "\n",
    "    paths = []\n",
    "    for t in G[v]:\n",
    "        if t not in seen:\n",
    "            t_path = path + [t]\n",
    "            paths.append(tuple(t_path))\n",
    "            paths.extend(DFS(G, t, seen[:], t_path))\n",
    "    return paths\n",
    "\n",
    "#Given a set of paths this routine returns the maximum length chain\n",
    "def give_a_max_path(all_paths):\n",
    "        \n",
    "    \n",
    "    max_len   = max(len(p) for p in all_paths)\n",
    "    \n",
    "    max_paths = [p for p in all_paths if len(p) == max_len]\n",
    "        \n",
    "    num_max_paths = len(max_paths)\n",
    "        \n",
    "    chosen_path = max_paths[np.random.randint(num_max_paths)]\n",
    "    \n",
    "    return chosen_path, max_len\n",
    "\n",
    "def union(list1,list2):\n",
    "    return list(set(list1) | set(list2))\n",
    "\n"
   ]
  },
  {
   "cell_type": "code",
   "execution_count": 32,
   "metadata": {},
   "outputs": [
    {
     "name": "stdout",
     "output_type": "stream",
     "text": [
      "[0.6509433962264151, 0.9633579865203217, 1.2817201391074913, 1.450210771810214, 1.4912710657963957, 1.513917299224777, 1.5296976949630299, 1.472980385399615, 1.2495139657930356]\n",
      "{10: [0.5, 1.5]}\n",
      "{10: {0.5: [], 1.5: []}}\n"
     ]
    }
   ],
   "source": [
    "# Defining the tree dictionary for each node\n",
    "# Each block tree is a dictionary\n",
    "# Each node is in nodes[] list\n",
    "\n",
    "num_nodes = 10000\n",
    "\n",
    "max_blocks = 100\n",
    "\n",
    "#Chyeck list of lists\n",
    "\n",
    "\n",
    "delay_vector= np.arange(0,5.25,0.25)\n",
    "#delay_vector=[5]\n",
    "\n",
    "num_delays=len(delay_vector)\n",
    "\n",
    "num_trials = 4\n",
    "\n",
    "MCL={}\n",
    "\n",
    "#max_len_tracker = np.zeros((num_delays, max_blocks+1, num_trials))\n",
    "\n",
    "D_tilde_factor = 0.1\n",
    "threshold_coefficient=0.1\n",
    "\n",
    "temporary_guess = x0_array\n",
    "print(temporary_guess)\n",
    "\n",
    "poll_L_array = [10]\n",
    "#poll_L_array=[10]\n",
    "delay_dict = {}\n",
    "for i in poll_L_array:\n",
    "    delay_dict[i] = [0.5,1.5]\n",
    "    MCL[i] = {}\n",
    "    for j in delay_dict[i]:\n",
    "        MCL[i][j] = []\n",
    "\n",
    "print(delay_dict)\n",
    "print(MCL)"
   ]
  },
  {
   "cell_type": "code",
   "execution_count": 33,
   "metadata": {
    "scrolled": true
   },
   "outputs": [
    {
     "name": "stdout",
     "output_type": "stream",
     "text": [
      "10\n",
      "Starting with delay: 0.5\n",
      "24\n",
      "47\n",
      "70\n",
      "95\n",
      "Trial 0: Block 100 arrived : Growth rate of the main chain is 95\n",
      "24\n",
      "47\n",
      "70\n",
      "94\n",
      "Trial 1: Block 100 arrived : Growth rate of the main chain is 94\n",
      "22\n",
      "44\n",
      "69\n",
      "93\n",
      "Trial 2: Block 100 arrived : Growth rate of the main chain is 93\n",
      "23\n",
      "47\n",
      "71\n",
      "95\n",
      "Trial 3: Block 100 arrived : Growth rate of the main chain is 95\n",
      "Starting with delay: 1.5\n",
      "17\n",
      "33\n",
      "49\n",
      "68\n",
      "Trial 0: Block 100 arrived : Growth rate of the main chain is 68\n",
      "16\n",
      "31\n",
      "48\n",
      "67\n",
      "Trial 1: Block 100 arrived : Growth rate of the main chain is 67\n",
      "17\n",
      "34\n",
      "51\n",
      "71\n",
      "Trial 2: Block 100 arrived : Growth rate of the main chain is 71\n",
      "18\n",
      "36\n",
      "55\n",
      "71\n",
      "Trial 3: Block 100 arrived : Growth rate of the main chain is 71\n"
     ]
    }
   ],
   "source": [
    "for poll_L in poll_L_array:\n",
    "    print(poll_L)\n",
    "    delay_vector = delay_dict[poll_L]\n",
    "    num_delays=len(delay_vector)\n",
    "    for d in range(num_delays):\n",
    "\n",
    "        Delay = delay_vector[d]\n",
    "\n",
    "        data={} \n",
    "\n",
    "        D_tilde = D_tilde_factor*Delay\n",
    "\n",
    "        print(\"Starting with delay:\", Delay)\n",
    "\n",
    "        for trial in range(num_trials):\n",
    "\n",
    "            nodes = num_nodes*[0]\n",
    "\n",
    "            #Tree variables\n",
    "            num_in_strings = [str(i) for i in range(max_blocks+1)]\n",
    "\n",
    "\n",
    "\n",
    "            for i in range(num_nodes):\n",
    "                nodes[i] = {i:[] for i in num_in_strings[:-1]}\n",
    "\n",
    "            # nodes[i] is a dictionary of block tree for node i which contains children of the blocks 0,1,....,T-1    \n",
    "\n",
    "            god_node_children = {i:[] for i in num_in_strings}    \n",
    "            god_node_parents = {i:\"\" for i in num_in_strings[:-1]}\n",
    "\n",
    "            rechability_matrix= np.zeros((num_nodes,max_blocks+1))\n",
    "            rechability_matrix[:,0]=1\n",
    "\n",
    "            delay_variables = np.random.exponential(Delay,(num_nodes,max_blocks+1))\n",
    "\n",
    "            poll_delay = np.random.exponential(D_tilde,(max_blocks+1,poll_L-1))\n",
    "            poll_delay = poll_delay + 0.1*D_tilde*(poll_L-1)\n",
    "            threshold_timer = threshold_coefficient*Delay\n",
    "            actual_poll_delay = np.full(max_blocks+1,threshold_timer)\n",
    "            maximum_poll_delay = np.amax(poll_delay,1)\n",
    "            actual_poll_delay = np.minimum(maximum_poll_delay,actual_poll_delay)\n",
    "            \n",
    "            #print(D_tilde)\n",
    "            #print(np.mean(poll_delay))\n",
    "            #poll_delay = np.zeros((max_blocks+1))\n",
    "            #poll_delay = poll_delay+D_tilde    \n",
    "\n",
    "            #Block arrival process\n",
    "            for t in range(1, max_blocks+1):\n",
    "\n",
    "                chosen_node = np.random.randint(num_nodes)\n",
    "\n",
    "                delay_variables[chosen_node,t] = 0  # Removing GOD model\\n\"\n",
    "\n",
    "                # Update block trees for all nodes \"n\"\n",
    "\n",
    "                if t==1:\n",
    "                    god_node_children[\"0\"].append(str(t))\n",
    "\n",
    "                    god_node_parents[str(t)] = str(0)\n",
    "\n",
    "\n",
    "                else:\n",
    "\n",
    "\n",
    "                    #Updating the block trees of all the nodes corresponding to the blocks 1,...t-1\n",
    "\n",
    "                    for tau in range(1,t):\n",
    "\n",
    "                        for k in range(num_nodes):\n",
    "\n",
    "                            if delay_variables[k,tau] < t-tau-actual_poll_delay[tau]:\n",
    "\n",
    "                                rechability_matrix[k,tau]=1\n",
    "\n",
    "                                if str(tau) not in nodes[k][god_node_parents[str(tau)]]:\n",
    "                                    nodes[k][god_node_parents[str(tau)]].append(str(tau))\n",
    "\n",
    "                    #Find the longest path for  chosen node n starting from the genesis block 0,1,,\n",
    "\n",
    "\n",
    "                    #If we poll we merge the dictionaries a.k.a local block trees and then chose the longest path\n",
    "\n",
    "                    #graph = nodes[chosen_node]\n",
    "\n",
    "                    #Updating the chosen node blocktree due to polling delay in proposal\n",
    "\n",
    "                    for tau in range(1,t):\n",
    "                        if delay_variables[chosen_node,tau] < t+actual_poll_delay[t]-tau-actual_poll_delay[tau]:\n",
    "\n",
    "                            rechability_matrix[chosen_node,tau]=1\n",
    "\n",
    "                            if str(tau) not in nodes[chosen_node][god_node_parents[str(tau)]]:\n",
    "                                nodes[chosen_node][god_node_parents[str(tau)]].append(str(tau))\n",
    "\n",
    "                chosen_graph = nodes[chosen_node]\n",
    "                \n",
    "                polled_node=chosen_node\n",
    "                \n",
    "                polling_list=list(range(num_nodes))\n",
    "                \n",
    "                polling_list.remove(polled_node)\n",
    "                \n",
    "                for i in range(poll_L-1):\n",
    "                    \n",
    "                    if poll_delay[t][i] <= actual_poll_delay[t]:\n",
    "                        \n",
    "                        polled_node = choice(polling_list)\n",
    "\n",
    "                        polled_graph = nodes[polled_node]\n",
    "\n",
    "                        chosen_graph = {x:union(chosen_graph[x],polled_graph[x]) for x in chosen_graph}\n",
    "\n",
    "                        polling_list.remove(polled_node)\n",
    "                             \n",
    "                \n",
    "                all_paths = DFS(chosen_graph, \"0\")\n",
    "\n",
    "                if len(all_paths)==0:\n",
    "\n",
    "                    chosen_leaf=\"0\"\n",
    "\n",
    "                else:\n",
    "\n",
    "                    chosen_path, max_len = give_a_max_path(all_paths)\n",
    "\n",
    "                    chosen_leaf=chosen_path[-1]\n",
    "\n",
    "\n",
    "                #Attach this node in the Global tree\n",
    "\n",
    "                god_node_children[chosen_leaf].append(str(t))\n",
    "\n",
    "                god_node_parents[str(t)] = chosen_leaf\n",
    "\n",
    "\n",
    "                _, temp_length = give_a_max_path(DFS(god_node_children,\"0\"))\n",
    "\n",
    "\n",
    "                temp_length = temp_length-1\n",
    "\n",
    "                if t%25==0:\n",
    "                    print(temp_length)\n",
    "                \n",
    "                if t%100 == 0:\n",
    "\n",
    "                    print(\"Trial {0}: Block {1} arrived : Growth rate of the main chain is {2}\".format(trial, t, temp_length))\n",
    "                    MCL[poll_L][Delay].append(temp_length)\n",
    "\n",
    "\n",
    "\n",
    "            #data[\"Trial%d\"%(trial)]= max_len_tracker[d,:,trial]\n",
    "            #df = pd.DataFrame(data=data)            \n",
    "            #df.to_csv('poll_delay_conservative/'+'updated_delay2_poll4_n%d_T%d_D%.2f.csv'%(num_nodes,max_blocks,Delay))\n",
    "\n"
   ]
  },
  {
   "cell_type": "code",
   "execution_count": 34,
   "metadata": {},
   "outputs": [
    {
     "name": "stdout",
     "output_type": "stream",
     "text": [
      "{10: {0.5: [95, 94, 93, 95], 1.5: [68, 67, 71, 71]}}\n"
     ]
    }
   ],
   "source": [
    "print(MCL)"
   ]
  },
  {
   "cell_type": "code",
   "execution_count": 37,
   "metadata": {},
   "outputs": [
    {
     "name": "stdout",
     "output_type": "stream",
     "text": [
      "{0.5: 0.171875, 1.5: 0.796875}\n"
     ]
    }
   ],
   "source": [
    "EMCL = {}\n",
    "VMCL = {}\n",
    "for i in range(10,11):\n",
    "    EMCL[i] = {}\n",
    "    VMCL[i] = {}\n",
    "    for j in [1-0.5,1+0.5]:\n",
    "        EMCL[i][j] = np.mean(np.array([MCL[i][j]]))\n",
    "        VMCL[i][j] = np.var(np.array([MCL[i][j]]))/4\n",
    "print(VMCL[10])"
   ]
  },
  {
   "cell_type": "code",
   "execution_count": 38,
   "metadata": {
    "collapsed": true
   },
   "outputs": [],
   "source": [
    "def calculate_x0(y1,y2,y0,x1,x2):\n",
    "    return(x1+ (y0-y1)*(x2-x1)/(y2-y1))\n",
    "\n",
    "def calculate_var_x0(y1,y2,y0,x1,x2,vary1,vary2):\n",
    "    temp_term1 = ((x2-x1)**2)*((y0-y1)**2)/((y2-y1)**2)\n",
    "    \n",
    "    temp_term2 = vary1/((y0-y1)**2) + (vary2+vary1)/((y2-y1)**2)\n",
    "    \n",
    "    return temp_term1*temp_term2"
   ]
  },
  {
   "cell_type": "code",
   "execution_count": 26,
   "metadata": {
    "collapsed": true
   },
   "outputs": [],
   "source": [
    "EMCL[1] = {}\n",
    "VMCL[1] = {}\n",
    "EMCL[1][0.5] = 88.0\n",
    "EMCL[1][0.75] = 74.75\n",
    "VMCL[1][0.5] = 1.5/4\n",
    "VMCL[1][0.75] = 8.6875/4"
   ]
  },
  {
   "cell_type": "code",
   "execution_count": 39,
   "metadata": {},
   "outputs": [
    {
     "name": "stdout",
     "output_type": "stream",
     "text": [
      "[1.0699999999999998]\n",
      "[0.02790331521522129]\n"
     ]
    }
   ],
   "source": [
    "x0_array = []\n",
    "std_x0_array = []\n",
    "for i in range(10,11):\n",
    "    [x1,x2]=list(EMCL[i].keys())\n",
    "    [y1,y2]=list(EMCL[i].values())\n",
    "    [vary1,vary2] = list(VMCL[i].values())\n",
    "    y0 = 80\n",
    "    x0 = calculate_x0(y1,y2,y0,x1,x2)\n",
    "    var_x0=calculate_var_x0(y1,y2,y0,x1,x2,vary1,vary2)\n",
    "    x0_array.append(x0)\n",
    "    std_x0_array.append(np.sqrt(var_x0))\n",
    "                      \n",
    "    \n",
    "print(x0_array)\n",
    "print(std_x0_array)"
   ]
  },
  {
   "cell_type": "code",
   "execution_count": 30,
   "metadata": {
    "collapsed": true
   },
   "outputs": [],
   "source": [
    "x0_finalized = x0_array\n",
    "std_x0_finalized = std_x0_array\n",
    "#x0_finalized.pop()\n",
    "#std_x0_finalized.pop()"
   ]
  },
  {
   "cell_type": "code",
   "execution_count": 40,
   "metadata": {
    "collapsed": true
   },
   "outputs": [],
   "source": [
    "x0_finalized.append(x0_array[0])\n",
    "std_x0_finalized.append(std_x0_array[0])"
   ]
  },
  {
   "cell_type": "code",
   "execution_count": 41,
   "metadata": {},
   "outputs": [
    {
     "name": "stdout",
     "output_type": "stream",
     "text": [
      "[0.6509433962264151, 0.9633579865203217, 1.2817201391074913, 1.450210771810214, 1.4912710657963957, 1.513917299224777, 1.5296976949630299, 1.472980385399615, 1.2495139657930356, 1.0699999999999998]\n",
      "[0.02154122349816967, 0.030240614108434295, 0.10280907602304622, 0.08922305567021913, 0.056184277345366164, 0.053039630553595465, 0.038945273195620515, 0.08115618814800397, 0.06643974300973336, 0.02790331521522129]\n"
     ]
    }
   ],
   "source": [
    "print(x0_finalized)\n",
    "print(std_x0_finalized)"
   ]
  },
  {
   "cell_type": "code",
   "execution_count": 43,
   "metadata": {},
   "outputs": [
    {
     "data": {
      "image/png": "[encoded data removed]",
      "text/plain": [
       "<Figure size 720x504 with 1 Axes>"
      ]
     },
     "metadata": {
      "needs_background": "light"
     },
     "output_type": "display_data"
    }
   ],
   "source": [
    "plt.rcParams.update({'font.size': 14})\n",
    "plt.figure(figsize=(10,7))\n",
    "plt.errorbar(range(1,11),x0_finalized,std_x0_finalized,color=(0.5,0,0))\n",
    "plt.xlabel('l')\n",
    "plt.ylabel('D')\n",
    "plt.legend(['0.01D(L-1)_connection_delay_0.1D_timer_delay'])\n",
    "#plt.title('Lower_bound_tightness')\n",
    "#plt.savefig('lower_bound1.fig')\n",
    "plt.show()"
   ]
  },
  {
   "cell_type": "code",
   "execution_count": 44,
   "metadata": {
    "collapsed": true
   },
   "outputs": [],
   "source": [
    "np.save('DvsL_dict/0.01D_connect_0.1Dtimer_mean.npy',np.array(x0_finalized))\n",
    "np.save('DvsL_dict/0.01D_connect_0.1Dtimer_std.npy',np.array(std_x0_finalized))"
   ]
  },
  {
   "cell_type": "code",
   "execution_count": null,
   "metadata": {
    "collapsed": true
   },
   "outputs": [],
   "source": []
  }
 ],
 "metadata": {
  "kernelspec": {
   "display_name": "Python 2",
   "language": "python",
   "name": "python2"
  },
  "language_info": {
   "codemirror_mode": {
    "name": "ipython",
    "version": 2
   },
   "file_extension": ".py",
   "mimetype": "text/x-python",
   "name": "python",
   "nbconvert_exporter": "python",
   "pygments_lexer": "ipython2",
   "version": "2.7.13"
  }
 },
 "nbformat": 4,
 "nbformat_minor": 2
}
